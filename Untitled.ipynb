{
 "cells": [
  {
   "cell_type": "markdown",
   "metadata": {},
   "source": [
    "# 10 вариант"
   ]
  },
  {
   "cell_type": "markdown",
   "metadata": {},
   "source": [
    "## 5 задача"
   ]
  },
  {
   "cell_type": "code",
   "execution_count": 3,
   "metadata": {},
   "outputs": [
    {
     "name": "stdout",
     "output_type": "stream",
     "text": [
      "Введите число: 7\n",
      "Введите степень: 5\n",
      "Результат равен: 16807\n"
     ]
    }
   ],
   "source": [
    "def power(base, exp):\n",
    "    if (exp == 1):\n",
    "        return (base)\n",
    "    if (exp != 1):\n",
    "        return (base * power(base, exp - 1))\n",
    "base = int(input(\"Введите число: \"))\n",
    "exp = int(input(\"Введите степень: \"))\n",
    "print(\"Результат равен:\", power(base, exp))"
   ]
  },
  {
   "cell_type": "markdown",
   "metadata": {},
   "source": [
    "## 1 задача"
   ]
  },
  {
   "cell_type": "code",
   "execution_count": null,
   "metadata": {},
   "outputs": [],
   "source": [
    "Составить список учебной группы, включающий Х человек. Для каждого студента указать:\n",
    "фамилию и имя, дату рождения (год, месяц и число), также у каждого студента есть зачетка,\n",
    "в которой указаны: предмет (от трех до пяти), дата экзамена, ФИО преподавателя.\n",
    "Программа должна обладать следующим функционалом:"
   ]
  },
  {
   "cell_type": "code",
   "execution_count": 45,
   "metadata": {
    "scrolled": true
   },
   "outputs": [
    {
     "name": "stdout",
     "output_type": "stream",
     "text": [
      "Введите количество студентов: 3\n",
      "Введите фамилию: Иванов\n",
      "Введите имя: Иван\n",
      "Введите год рождения: 1999\n",
      "Введите месяц рождения: 12\n",
      "Введите дату рождения: 23\n",
      "Введите количество экзаменов: 3\n",
      "Введите экзамен: \n",
      "Введите дату экзамена: \n",
      "Введите преподавателя: \n",
      "Введите экзамен: \n",
      "Введите дату экзамена: \n",
      "Введите преподавателя: \n",
      "Введите экзамен: \n",
      "Введите дату экзамена: \n",
      "Введите преподавателя: \n",
      "Введите фамилию: Петров\n",
      "Введите имя: Николай\n",
      "Введите год рождения: 1998\n",
      "Введите месяц рождения: 10\n",
      "Введите дату рождения: 15\n",
      "Введите количество экзаменов: 3\n",
      "Введите экзамен: \n",
      "Введите дату экзамена: \n",
      "Введите преподавателя: \n",
      "Введите экзамен: \n",
      "Введите дату экзамена: \n",
      "Введите преподавателя: \n",
      "Введите экзамен: \n",
      "Введите дату экзамена: \n",
      "Введите преподавателя: \n",
      "Введите фамилию: Сидоров\n",
      "Введите имя: Александр\n",
      "Введите год рождения: 1999\n",
      "Введите месяц рождения: 09\n",
      "Введите дату рождения: 1\n",
      "Введите количество экзаменов: 3\n",
      "Введите экзамен: \n",
      "Введите дату экзамена: \n",
      "Введите преподавателя: \n",
      "Введите экзамен: \n",
      "Введите дату экзамена: \n",
      "Введите преподавателя: \n",
      "Введите экзамен: \n",
      "Введите дату экзамена: \n",
      "Введите преподавателя: \n",
      "                        0           1          2\n",
      "Фамилия            Иванов      Петров    Сидоров\n",
      "Имя                  Иван     Николай  Александр\n",
      "День рождения  1999.12.23  1998.10.15  1999.09.1\n"
     ]
    }
   ],
   "source": [
    "import pandas as pd\n",
    "surname_n = []\n",
    "name_n = []\n",
    "birt_t = []\n",
    "ex_n = []\n",
    "date_n = []\n",
    "teacher_n = []\n",
    "all_l = []\n",
    "n = int(input(\"Введите количество студентов: \"))\n",
    "while n<0:\n",
    "    print(\"Повторите ввод\")\n",
    "    n = int(input(\"Введите количество студентов еще раз: \"))\n",
    "for i in range(n):\n",
    "    surname = input(\"Введите фамилию: \")\n",
    "    name = input(\"Введите имя: \")\n",
    "    year = int(input(\"Введите год рождения: \"))\n",
    "    month = input(\"Введите месяц рождения: \")\n",
    "    ch = int(input(\"Введите дату рождения: \"))\n",
    "    birt = str(year)+'.'+month+'.'+str(ch)\n",
    "    birt_t.append(birt)\n",
    "    surname_n.append(surname)\n",
    "    name_n.append(name)\n",
    "    ex = int(input(\"Введите количество экзаменов: \"))\n",
    "    while ex<3 or ex>5:\n",
    "        ex = int(input(\"Введите количество экзаменов от трех до пяти: \"))\n",
    "    for i in range(ex):\n",
    "        ex1 = input(\"Введите экзамен: \")\n",
    "        ex_n.append(ex)\n",
    "        date = input(\"Введите дату экзамена: \")\n",
    "        date_n.append(date)\n",
    "        teach = input(\"Введите преподавателя: \")\n",
    "        teacher_n.append(teach)\n",
    "all_l.append(surname_n)\n",
    "all_l.append(name_n)\n",
    "all_l.append(birt_t)\n",
    "index = ['Фамилия', 'Имя', 'День рождения']\n",
    "df = pd.DataFrame(all_l, index) \n",
    "print(df)"
   ]
  },
  {
   "cell_type": "code",
   "execution_count": null,
   "metadata": {},
   "outputs": [],
   "source": []
  }
 ],
 "metadata": {
  "kernelspec": {
   "display_name": "Python 3",
   "language": "python",
   "name": "python3"
  },
  "language_info": {
   "codemirror_mode": {
    "name": "ipython",
    "version": 3
   },
   "file_extension": ".py",
   "mimetype": "text/x-python",
   "name": "python",
   "nbconvert_exporter": "python",
   "pygments_lexer": "ipython3",
   "version": "3.6.9"
  }
 },
 "nbformat": 4,
 "nbformat_minor": 2
}
